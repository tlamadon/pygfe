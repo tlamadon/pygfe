{
 "cells": [
  {
   "cell_type": "code",
   "execution_count": 77,
   "metadata": {
    "ExecuteTime": {
     "end_time": "2021-01-19T20:40:37.728903Z",
     "start_time": "2021-01-19T20:40:37.715854Z"
    }
   },
   "outputs": [],
   "source": [
    "import torch\n",
    "import numpy as np\n",
    "import pandas as pd\n",
    "from sklearn.cluster import KMeans\n",
    "from statsmodels.discrete.discrete_model import Probit\n",
    "import patsy\n",
    "import matplotlib.pylab as plt\n",
    "import tqdm\n",
    "import itertools\n",
    "\n",
    "ax = np.newaxis"
   ]
  },
  {
   "cell_type": "code",
   "execution_count": 76,
   "metadata": {
    "ExecuteTime": {
     "end_time": "2021-01-19T20:40:36.737743Z",
     "start_time": "2021-01-19T20:40:36.715716Z"
    },
    "hide_input": false
   },
   "outputs": [
    {
     "name": "stdout",
     "output_type": "stream",
     "text": [
      "The autoreload extension is already loaded. To reload it, use:\n",
      "  %reload_ext autoreload\n"
     ]
    }
   ],
   "source": [
    "%load_ext autoreload\n",
    "%autoreload 2\n",
    "import blm2_utils as blm2\n"
   ]
  },
  {
   "cell_type": "markdown",
   "metadata": {},
   "source": [
    "# A simple model of wage and participation\n",
    "\n",
    "\\begin{align*}\n",
    "Y^*_{it} & = \\alpha_i + \\epsilon_{it} \\\\\n",
    "D_{it} &= 1\\big[ u(\\alpha_i) \\geq c(D_{it-1}) + V_{it}  \\big] \\\\\n",
    "Y_{it} &= D_{it} Y^*_{it} \\\\\n",
    "\\end{align*}\n",
    "\n",
    "where we use \n",
    "\n",
    "$$u(\\alpha) = \\frac{e^{(1-\\gamma) \\alpha } -1}{1-\\gamma}$$\n",
    "\n",
    "and use as initial conditions $D_{i1} = 1\\big[ u(\\alpha_i) \\geq c(1) + V_{i1}  \\big]$."
   ]
  },
  {
   "cell_type": "code",
   "execution_count": 78,
   "metadata": {
    "ExecuteTime": {
     "end_time": "2021-01-19T20:40:40.553933Z",
     "start_time": "2021-01-19T20:40:40.539720Z"
    }
   },
   "outputs": [],
   "source": [
    "def dgp_simulate(ni,nt,gamma=2.0,eps_sd=1.0):\n",
    "    \"\"\" simulates according to the model \"\"\"\n",
    "    alpha = np.random.normal(size=(ni))\n",
    "    eps   = np.random.normal(size=(ni,nt))\n",
    "    v     = np.random.normal(size=(ni,nt))\n",
    "    \n",
    "    # non-censored outcome\n",
    "    W = alpha[:,ax] + eps*eps_sd\n",
    "    \n",
    "    # utility\n",
    "    U = (np.exp( alpha * (1-gamma)) - 1)/(1-gamma)\n",
    "    U = U - U.mean()\n",
    "    \n",
    "    # costs\n",
    "    C1 = -1; C0=0;\n",
    "    \n",
    "    # binary decision\n",
    "    Y = np.ones((ni,nt))\n",
    "    Y[:,0] = U.squeeze() > C1 + v[:,0]\n",
    "    for t in range(1,nt): \n",
    "        Y[:,t] = U > C1*Y[:,t-1] + C0*(1-Y[:,t-1]) + v[:,t]\n",
    "    W =  W * Y\n",
    "        \n",
    "    return(W,Y)"
   ]
  },
  {
   "cell_type": "markdown",
   "metadata": {},
   "source": [
    "# Estimating the model\n",
    "\n",
    "We show the steps to estimating the model. Later on, we will run a Monte-Carlo Simulation.\n",
    "\n",
    "We simulate from the DGP we have defined."
   ]
  },
  {
   "cell_type": "code",
   "execution_count": 99,
   "metadata": {
    "ExecuteTime": {
     "end_time": "2021-01-19T20:44:04.102187Z",
     "start_time": "2021-01-19T20:44:04.083004Z"
    }
   },
   "outputs": [],
   "source": [
    "ni = 200\n",
    "nt = 20\n",
    "Y,D = dgp_simulate(ni,nt,2.0)"
   ]
  },
  {
   "cell_type": "markdown",
   "metadata": {},
   "source": [
    "## Step 1: grouping observations\n",
    "\n",
    "We group individuals based on their outcomes. We consider as moments the average value of $Y$ and the average value of $D$. We give our gfe function the $t$ sepcific values so that it can compute the within individual variation. This is a measure used to pick the nubmer of groups.\n",
    "\n",
    "The `group` function chooses the number of groups based on the rule described in the paper. "
   ]
  },
  {
   "cell_type": "code",
   "execution_count": 100,
   "metadata": {
    "ExecuteTime": {
     "end_time": "2021-01-19T20:44:06.553401Z",
     "start_time": "2021-01-19T20:44:05.427402Z"
    },
    "scrolled": true
   },
   "outputs": [
    {
     "name": "stdout",
     "output_type": "stream",
     "text": [
      "Number of groups = 7\n"
     ]
    }
   ],
   "source": [
    "# we create the moments\n",
    "# this has dimension ni x nt x nm \n",
    "M_itm = np.stack([Y,D],axis=2)\n",
    "\n",
    "# we use our sugar function to get the groups\n",
    "G_i,_  = blm2.group(M_itm)\n",
    "\n",
    "print(\"Number of groups = {:d}\".format(G_i.max()))"
   ]
  },
  {
   "cell_type": "markdown",
   "metadata": {},
   "source": [
    "We can plot the grouping:"
   ]
  },
  {
   "cell_type": "code",
   "execution_count": 157,
   "metadata": {
    "ExecuteTime": {
     "end_time": "2021-01-19T22:04:03.355286Z",
     "start_time": "2021-01-19T22:04:03.213978Z"
    }
   },
   "outputs": [
    {
     "data": {
      "image/png": "[encoded data removed]",
      "text/plain": [
       "<Figure size 432x288 with 1 Axes>"
      ]
     },
     "metadata": {
      "needs_background": "light"
     },
     "output_type": "display_data"
    }
   ],
   "source": [
    "dd = pd.DataFrame({'Y':Y.mean(1),'G':G_i,'D':D.mean(1)})\n",
    "plt.scatter(dd.Y,dd.D,c=dd.G*1.0)\n",
    "plt.show()"
   ]
  },
  {
   "cell_type": "markdown",
   "metadata": {},
   "source": [
    "## Step 2: Estimate the likelihood model with group specific parameters\n",
    "\n",
    "In the model we proposed, this second step is a probit. We can then directly use python probit routine with group dummies."
   ]
  },
  {
   "cell_type": "code",
   "execution_count": 114,
   "metadata": {
    "ExecuteTime": {
     "end_time": "2021-01-19T20:51:42.629819Z",
     "start_time": "2021-01-19T20:51:42.558802Z"
    }
   },
   "outputs": [
    {
     "name": "stdout",
     "output_type": "stream",
     "text": [
      "Optimization terminated successfully.\n",
      "         Current function value: 0.245462\n",
      "         Iterations: 64\n",
      "         Function evaluations: 65\n",
      "         Gradient evaluations: 65\n",
      "Estimated cost parameters = 0.900\n"
     ]
    }
   ],
   "source": [
    "ni,nt = D.shape\n",
    "\n",
    "# next we minimize using groups as FE\n",
    "dd = pd.DataFrame({\n",
    "    'd': D[:,range(1,nt)].flatten(), \n",
    "    'dl':D[:,range(nt-1)].flatten(), \n",
    "    'gi':np.broadcast_to(G_i[:,ax], (ni,nt-1)).flatten()})\n",
    "\n",
    "yv,Xv = patsy.dmatrices(\"d ~ 0 + dl + C(gi)\", dd, return_type='matrix')\n",
    "mod = Probit(dd['d'], Xv)\n",
    "res = mod.fit(maxiter=2000,method='bfgs') \n",
    "\n",
    "print(\"Estimated cost parameters = {:.3f}\".format(res.params[-1]))"
   ]
  },
  {
   "cell_type": "markdown",
   "metadata": {},
   "source": [
    "## Step 2 (alternative implementation): Pytorch and auto-diff\n",
    "\n",
    "We next write down a likelihood that we want to optimize. Instead of using the Python routine for the Probit, we make use of automatic differentiation from PyTorch. This makes it easy to modify the estimating model to accomodate for less standard likelihoods! \n",
    "\n",
    "We create a class which initializes the parameters in the `__init__` method and computes the loss in the `loss` method. We will see later how we can use this to define a fixed effect estimator. "
   ]
  },
  {
   "cell_type": "code",
   "execution_count": 120,
   "metadata": {
    "ExecuteTime": {
     "end_time": "2021-01-19T20:56:02.034713Z",
     "start_time": "2021-01-19T20:56:02.015875Z"
    }
   },
   "outputs": [],
   "source": [
    "class GrpProbit:\n",
    "\n",
    "    # initialize parameters and data\n",
    "    def __init__(self,D,G_i):\n",
    "        # define parameters and tell PyTorch to keep track of gradients\n",
    "        self.alpha = torch.tensor( np.ones(G_i.max()+1), requires_grad=True)\n",
    "        self.cost  = torch.tensor( np.random.normal(1), requires_grad=True)\n",
    "        self.params = [self.alpha,self.cost]\n",
    "        \n",
    "        # predefine some components\n",
    "        ni,nt     = D.shape\n",
    "        self.ni   = ni\n",
    "        self.G_i  = G_i\n",
    "        self.Dlag = torch.tensor(D[:,range(0,nt-1)])\n",
    "        self.Dout = torch.tensor(D[:,range(1,nt)])\n",
    "        self.N    = torch.distributions.normal.Normal(0,1)\n",
    "        \n",
    "    # define our loss function\n",
    "    def loss(self):\n",
    "        Id = self.alpha[self.G_i].reshape(self.ni,1) + self.cost * self.Dlag\n",
    "        lik_it = self.Dout * torch.log( torch.clamp( self.N.cdf( Id ), min=1e-7)) +  \\\n",
    "                    (1-self.Dout)*torch.log( torch.clamp( self.N.cdf( -Id ), min=1e-7) )\n",
    "        return(- lik_it.mean())\n"
   ]
  },
  {
   "cell_type": "code",
   "execution_count": 121,
   "metadata": {
    "ExecuteTime": {
     "end_time": "2021-01-19T20:56:07.547196Z",
     "start_time": "2021-01-19T20:56:07.452639Z"
    }
   },
   "outputs": [
    {
     "name": "stdout",
     "output_type": "stream",
     "text": [
      "Estimated cost parameters = 0.893\n"
     ]
    }
   ],
   "source": [
    "# initialize the model with groups and estimate it\n",
    "model = GrpProbit(D,G_i)\n",
    "train(model)\n",
    "\n",
    "print(\"Estimated cost parameters = {:.3f}\".format(model.params[1]))"
   ]
  },
  {
   "cell_type": "markdown",
   "metadata": {},
   "source": [
    "## Use PyTorch to estimate Fixed Effect version\n",
    "\n",
    "Since Pytorch makes use of efficient automatic differentiation, we can use it with many variables. This allows us to give each individual their own group, effectivily estimating a fixed-effect model."
   ]
  },
  {
   "cell_type": "code",
   "execution_count": 122,
   "metadata": {
    "ExecuteTime": {
     "end_time": "2021-01-19T20:56:23.940926Z",
     "start_time": "2021-01-19T20:56:22.149049Z"
    }
   },
   "outputs": [
    {
     "name": "stdout",
     "output_type": "stream",
     "text": [
      "Estimated cost parameters FE = 0.772\n"
     ]
    }
   ],
   "source": [
    "model_fe = GrpProbit(D,np.arange(ni))\n",
    "train(model_fe)\n",
    "\n",
    "print(\"Estimated cost parameters FE = {:.3f}\".format(model_fe.params[1]))"
   ]
  },
  {
   "cell_type": "markdown",
   "metadata": {},
   "source": [
    "# Monte-Carlo\n",
    "\n",
    "We finish with running a short Monte-Carlo exercise."
   ]
  },
  {
   "cell_type": "code",
   "execution_count": 154,
   "metadata": {
    "ExecuteTime": {
     "end_time": "2021-01-19T21:59:29.266897Z",
     "start_time": "2021-01-19T21:40:10.718282Z"
    }
   },
   "outputs": [
    {
     "name": "stderr",
     "output_type": "stream",
     "text": [
      "100%|██████████| 200/200 [19:18<00:00,  5.79s/it]\n"
     ]
    }
   ],
   "source": [
    "all = []\n",
    "import itertools\n",
    "\n",
    "ll = list(itertools.product(range(50), [10,20,30,40]))\n",
    "for r, nt in tqdm.tqdm(ll):\n",
    "    ni = 1000\n",
    "    gamma =2.0\n",
    "    \n",
    "    Y,D = dgp_simulate(ni,nt,gamma)\n",
    "    \n",
    "    M_itm = np.stack([Y,D],axis=2)\n",
    "    G_i,_  = blm2.group(M_itm,scale=True)\n",
    "\n",
    "    model_fe = GrpProbit(D,np.arange(ni))\n",
    "    train(model_fe)\n",
    "    \n",
    "    model_gfe = GrpProbit(D,G_i)\n",
    "    train(model_gfe)\n",
    "    \n",
    "    all.append({\n",
    "        'c_fe' : model_fe.params[1].item(), \n",
    "        'c_gfe': model_gfe.params[1].item(), \n",
    "        'ni':ni,\n",
    "        'nt':nt,\n",
    "        'gamma':gamma, \n",
    "        'ng':G_i.max()+1})\n",
    "\n",
    "    "
   ]
  },
  {
   "cell_type": "code",
   "execution_count": 156,
   "metadata": {
    "ExecuteTime": {
     "end_time": "2021-01-19T21:59:59.008961Z",
     "start_time": "2021-01-19T21:59:58.885040Z"
    }
   },
   "outputs": [
    {
     "data": {
      "image/png": "[encoded data removed]",
      "text/plain": [
       "<Figure size 432x288 with 1 Axes>"
      ]
     },
     "metadata": {
      "needs_background": "light"
     },
     "output_type": "display_data"
    }
   ],
   "source": [
    "df = pd.DataFrame(all)\n",
    "df2 = df.groupby(['ni','nt','gamma']).mean().reset_index()\n",
    "plt.plot(df2['nt'],df2['c_gfe'],label=\"gfe\",color=\"orange\")\n",
    "plt.plot(df2['nt'],df2['c_fe'],label=\"fe\",color=\"red\")\n",
    "plt.axhline(1.0,label=\"true\",color=\"black\",linestyle=\":\")\n",
    "plt.xlabel(\"T\")\n",
    "plt.legend()\n",
    "plt.show()"
   ]
  },
  {
   "cell_type": "code",
   "execution_count": 135,
   "metadata": {
    "ExecuteTime": {
     "end_time": "2021-01-19T21:35:17.926003Z",
     "start_time": "2021-01-19T21:35:17.874713Z"
    }
   },
   "outputs": [
    {
     "data": {
      "text/html": [
       "<div>\n",
       "<style scoped>\n",
       "    .dataframe tbody tr th:only-of-type {\n",
       "        vertical-align: middle;\n",
       "    }\n",
       "\n",
       "    .dataframe tbody tr th {\n",
       "        vertical-align: top;\n",
       "    }\n",
       "\n",
       "    .dataframe thead th {\n",
       "        text-align: right;\n",
       "    }\n",
       "</style>\n",
       "<table border=\"1\" class=\"dataframe\">\n",
       "  <thead>\n",
       "    <tr style=\"text-align: right;\">\n",
       "      <th></th>\n",
       "      <th></th>\n",
       "      <th></th>\n",
       "      <th>c_fe</th>\n",
       "      <th>c_gfe</th>\n",
       "      <th>ng</th>\n",
       "    </tr>\n",
       "    <tr>\n",
       "      <th>ni</th>\n",
       "      <th>nt</th>\n",
       "      <th>gamma</th>\n",
       "      <th></th>\n",
       "      <th></th>\n",
       "      <th></th>\n",
       "    </tr>\n",
       "  </thead>\n",
       "  <tbody>\n",
       "    <tr>\n",
       "      <th rowspan=\"4\" valign=\"top\">1000</th>\n",
       "      <th>10</th>\n",
       "      <th>2.0</th>\n",
       "      <td>-0.474319</td>\n",
       "      <td>-0.793172</td>\n",
       "      <td>6.04</td>\n",
       "    </tr>\n",
       "    <tr>\n",
       "      <th>20</th>\n",
       "      <th>2.0</th>\n",
       "      <td>-0.727105</td>\n",
       "      <td>-0.906604</td>\n",
       "      <td>8.18</td>\n",
       "    </tr>\n",
       "    <tr>\n",
       "      <th>30</th>\n",
       "      <th>2.0</th>\n",
       "      <td>-0.817691</td>\n",
       "      <td>-0.942789</td>\n",
       "      <td>9.86</td>\n",
       "    </tr>\n",
       "    <tr>\n",
       "      <th>40</th>\n",
       "      <th>2.0</th>\n",
       "      <td>-0.861104</td>\n",
       "      <td>-0.961328</td>\n",
       "      <td>11.28</td>\n",
       "    </tr>\n",
       "  </tbody>\n",
       "</table>\n",
       "</div>"
      ],
      "text/plain": [
       "                   c_fe     c_gfe     ng\n",
       "ni   nt gamma                           \n",
       "1000 10 2.0   -0.474319 -0.793172   6.04\n",
       "     20 2.0   -0.727105 -0.906604   8.18\n",
       "     30 2.0   -0.817691 -0.942789   9.86\n",
       "     40 2.0   -0.861104 -0.961328  11.28"
      ]
     },
     "execution_count": 135,
     "metadata": {},
     "output_type": "execute_result"
    }
   ],
   "source": [
    "df.groupby(['ni','nt','gamma']).mean()"
   ]
  }
 ],
 "metadata": {
  "@webio": {
   "lastCommId": null,
   "lastKernelId": null
  },
  "kernelspec": {
   "display_name": "Python [conda env:llmr-env]",
   "language": "python",
   "name": "conda-env-llmr-env-py"
  },
  "language_info": {
   "codemirror_mode": {
    "name": "ipython",
    "version": 3
   },
   "file_extension": ".py",
   "mimetype": "text/x-python",
   "name": "python",
   "nbconvert_exporter": "python",
   "pygments_lexer": "ipython3",
   "version": "3.7.9"
  },
  "toc": {
   "base_numbering": 1,
   "nav_menu": {},
   "number_sections": true,
   "sideBar": true,
   "skip_h1_title": false,
   "title_cell": "Table of Contents",
   "title_sidebar": "Contents",
   "toc_cell": false,
   "toc_position": {
    "height": "329px",
    "left": "924px",
    "top": "165px",
    "width": "165px"
   },
   "toc_section_display": true,
   "toc_window_display": false
  },
  "varInspector": {
   "cols": {
    "lenName": 16,
    "lenType": 16,
    "lenVar": 40
   },
   "kernels_config": {
    "python": {
     "delete_cmd_postfix": "",
     "delete_cmd_prefix": "del ",
     "library": "var_list.py",
     "varRefreshCmd": "print(var_dic_list())"
    },
    "r": {
     "delete_cmd_postfix": ") ",
     "delete_cmd_prefix": "rm(",
     "library": "var_list.r",
     "varRefreshCmd": "cat(var_dic_list()) "
    }
   },
   "position": {
    "height": "299px",
    "left": "579px",
    "right": "20px",
    "top": "120px",
    "width": "361px"
   },
   "types_to_exclude": [
    "module",
    "function",
    "builtin_function_or_method",
    "instance",
    "_Feature"
   ],
   "window_display": false
  }
 },
 "nbformat": 4,
 "nbformat_minor": 2
}
